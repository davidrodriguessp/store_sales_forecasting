{
 "cells": [
  {
   "cell_type": "code",
   "execution_count": 1,
   "id": "6669565f-3b90-415b-9355-8282cfa09390",
   "metadata": {},
   "outputs": [],
   "source": [
    "#this will be my first code\n",
    "import pandas as pd"
   ]
  },
  {
   "cell_type": "markdown",
   "id": "7d639be1-cfdf-4b01-83eb-51c5b46da46a",
   "metadata": {},
   "source": [
    "# Este é um exemplo de markdown"
   ]
  },
  {
   "cell_type": "code",
   "execution_count": null,
   "id": "ebda6516-37a7-4abc-9c65-96001b694b09",
   "metadata": {},
   "outputs": [],
   "source": []
  }
 ],
 "metadata": {
  "environment": {
   "kernel": "python3",
   "name": "common-cpu.m97",
   "type": "gcloud",
   "uri": "gcr.io/deeplearning-platform-release/base-cpu:m97"
  },
  "kernelspec": {
   "display_name": "Python 3",
   "language": "python",
   "name": "python3"
  },
  "language_info": {
   "codemirror_mode": {
    "name": "ipython",
    "version": 3
   },
   "file_extension": ".py",
   "mimetype": "text/x-python",
   "name": "python",
   "nbconvert_exporter": "python",
   "pygments_lexer": "ipython3",
   "version": "3.7.12"
  },
  "toc-autonumbering": true
 },
 "nbformat": 4,
 "nbformat_minor": 5
}
