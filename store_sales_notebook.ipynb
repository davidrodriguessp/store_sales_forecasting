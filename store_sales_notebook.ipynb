{
 "cells": [
  {
   "cell_type": "code",
   "execution_count": 1,
   "id": "6669565f-3b90-415b-9355-8282cfa09390",
   "metadata": {},
   "outputs": [],
   "source": [
    "#this will be my first code\n",
    "import pandas as pd"
   ]
  },
  {
   "cell_type": "markdown",
   "id": "7d639be1-cfdf-4b01-83eb-51c5b46da46a",
   "metadata": {},
   "source": [
    "# Este é um exemplo de markdown"
   ]
  },
  {
   "cell_type": "markdown",
   "id": "258a7900-1f07-494b-9789-7fcc639f9c81",
   "metadata": {},
   "source": [
    "![foto](https://th.bing.com/th/id/R.20527d324fec0bea45ba99db370eeddc?rik=oR8THJj83n1BdA&riu=http%3a%2f%2fwww.kissinuk.com%2fkizz%2fkizz.jpg&ehk=0xMJc65ialCI%2bw%2bURhmpz%2f7ZUz0DJeC8tYAzLXdPmL8%3d&risl=&pid=ImgRaw&r=0)"
   ]
  },
  {
   "cell_type": "code",
   "execution_count": null,
   "id": "7d20011d-5f2c-41ab-8e49-d615f5a1ecdf",
   "metadata": {},
   "outputs": [],
   "source": []
  }
 ],
 "metadata": {
  "environment": {
   "kernel": "python3",
   "name": "common-cpu.m97",
   "type": "gcloud",
   "uri": "gcr.io/deeplearning-platform-release/base-cpu:m97"
  },
  "kernelspec": {
   "display_name": "Python 3",
   "language": "python",
   "name": "python3"
  },
  "language_info": {
   "codemirror_mode": {
    "name": "ipython",
    "version": 3
   },
   "file_extension": ".py",
   "mimetype": "text/x-python",
   "name": "python",
   "nbconvert_exporter": "python",
   "pygments_lexer": "ipython3",
   "version": "3.7.12"
  },
  "toc-autonumbering": true
 },
 "nbformat": 4,
 "nbformat_minor": 5
}
